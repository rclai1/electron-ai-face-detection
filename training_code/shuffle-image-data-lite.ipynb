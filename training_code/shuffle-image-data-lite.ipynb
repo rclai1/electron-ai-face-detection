{
 "cells": [
  {
   "cell_type": "code",
   "execution_count": null,
   "id": "2929d2b5",
   "metadata": {},
   "outputs": [
    {
     "name": "stdout",
     "output_type": "stream",
     "text": [
      "Shuffled C:/Users/gamed/Downloads/real-vs-fake/test/real without errors\n"
     ]
    }
   ],
   "source": [
    "# Shuffles data in a directory, but you have to do this for every directory\n",
    "# Does not go into subdirectories\n",
    "\n",
    "import os\n",
    "import random\n",
    "\n",
    "def shuffle_in_dir(dir_path):\n",
    "    dir = os.listdir(dir_path)\n",
    "    random.shuffle(dir)\n",
    "    return dir\n",
    "\n",
    "file_dir = \"path/to/dir\"\n",
    "shuffled_files = shuffle_in_dir(file_dir)\n",
    "\n",
    "for file in shuffled_files:\n",
    "    file_path = os.path.join(file_dir, file)\n",
    "\n",
    "print(\"Shuffled\", file_dir, \"without errors\")"
   ]
  },
  {
   "cell_type": "code",
   "execution_count": null,
   "id": "6d741fe7",
   "metadata": {},
   "outputs": [
    {
     "data": {
      "application/vnd.jupyter.widget-view+json": {
       "model_id": "506f5bcc34204fd0881137309022c5e7",
       "version_major": 2,
       "version_minor": 0
      },
      "text/plain": [
       "Resolving data files:   0%|          | 0/100000 [00:00<?, ?it/s]"
      ]
     },
     "metadata": {},
     "output_type": "display_data"
    },
    {
     "data": {
      "application/vnd.jupyter.widget-view+json": {
       "model_id": "03112ab3882543a4bcc47b262d98205a",
       "version_major": 2,
       "version_minor": 0
      },
      "text/plain": [
       "Resolving data files:   0%|          | 0/20000 [00:00<?, ?it/s]"
      ]
     },
     "metadata": {},
     "output_type": "display_data"
    },
    {
     "data": {
      "application/vnd.jupyter.widget-view+json": {
       "model_id": "502c25b9a4d147c69d2ca4352342d08d",
       "version_major": 2,
       "version_minor": 0
      },
      "text/plain": [
       "Resolving data files:   0%|          | 0/20000 [00:00<?, ?it/s]"
      ]
     },
     "metadata": {},
     "output_type": "display_data"
    },
    {
     "name": "stdout",
     "output_type": "stream",
     "text": [
      "DatasetDict({\n",
      "    train: Dataset({\n",
      "        features: ['image', 'label'],\n",
      "        num_rows: 6000\n",
      "    })\n",
      "    validation: Dataset({\n",
      "        features: ['image', 'label'],\n",
      "        num_rows: 2000\n",
      "    })\n",
      "    test: Dataset({\n",
      "        features: ['image', 'label'],\n",
      "        num_rows: 2000\n",
      "    })\n",
      "})\n",
      "Train: Counter({0: 3000, 1: 3000})\n"
     ]
    }
   ],
   "source": [
    "from datasets import load_dataset, DatasetDict\n",
    "\n",
    "dataset = load_dataset(\"imagefolder\", data_dir=\"path/to/dataset\")\n",
    "\n",
    "# This is for a 60:20:20 split for 10K, change as necessary\n",
    "final_dataset = DatasetDict({\n",
    "    \"train\": dataset[\"train\"].train_test_split(\n",
    "        train_size=6000, \n",
    "        stratify_by_column=\"label\",\n",
    "        seed=42\n",
    "    )[\"train\"],\n",
    "    \"validation\": dataset[\"validation\"].train_test_split(\n",
    "        train_size=2000,\n",
    "        stratify_by_column=\"label\", \n",
    "        seed=42\n",
    "    )[\"train\"],\n",
    "    \"test\": dataset[\"test\"].train_test_split(\n",
    "        train_size=2000,\n",
    "        stratify_by_column=\"label\",\n",
    "        seed=42\n",
    "    )[\"train\"]\n",
    "})\n",
    "\n",
    "print(final_dataset)\n",
    "from collections import Counter\n",
    "print(f\"Train: {Counter(final_dataset['train']['label'])}\")"
   ]
  },
  {
   "cell_type": "code",
   "execution_count": 2,
   "id": "a99b4f46",
   "metadata": {},
   "outputs": [
    {
     "data": {
      "application/vnd.jupyter.widget-view+json": {
       "model_id": "97de7504b3a4422294b202eb7d00f041",
       "version_major": 2,
       "version_minor": 0
      },
      "text/plain": [
       "VBox(children=(HTML(value='<center> <img\\nsrc=https://huggingface.co/front/assets/huggingface_logo-noborder.sv…"
      ]
     },
     "metadata": {},
     "output_type": "display_data"
    }
   ],
   "source": [
    "from huggingface_hub import login\n",
    "login()"
   ]
  },
  {
   "cell_type": "code",
   "execution_count": null,
   "id": "34bbbed7",
   "metadata": {},
   "outputs": [
    {
     "ename": "NameError",
     "evalue": "name 'final_dataset' is not defined",
     "output_type": "error",
     "traceback": [
      "\u001b[1;31m---------------------------------------------------------------------------\u001b[0m",
      "\u001b[1;31mNameError\u001b[0m                                 Traceback (most recent call last)",
      "Cell \u001b[1;32mIn[1], line 1\u001b[0m\n\u001b[1;32m----> 1\u001b[0m \u001b[43mfinal_dataset\u001b[49m\u001b[38;5;241m.\u001b[39mpush_to_hub(repo_id\u001b[38;5;241m=\u001b[39m\u001b[38;5;124m\"\u001b[39m\u001b[38;5;124mrepo_owner/repo\u001b[39m\u001b[38;5;124m\"\u001b[39m, private\u001b[38;5;241m=\u001b[39m\u001b[38;5;28;01mFalse\u001b[39;00m)\n",
      "\u001b[1;31mNameError\u001b[0m: name 'final_dataset' is not defined"
     ]
    }
   ],
   "source": [
    "# Make sure HF model repo exists first\n",
    "final_dataset.push_to_hub(repo_id=\"repo_owner/repo\", private=False)"
   ]
  }
 ],
 "metadata": {
  "kernelspec": {
   "display_name": "base",
   "language": "python",
   "name": "python3"
  },
  "language_info": {
   "codemirror_mode": {
    "name": "ipython",
    "version": 3
   },
   "file_extension": ".py",
   "mimetype": "text/x-python",
   "name": "python",
   "nbconvert_exporter": "python",
   "pygments_lexer": "ipython3",
   "version": "3.12.2"
  }
 },
 "nbformat": 4,
 "nbformat_minor": 5
}
