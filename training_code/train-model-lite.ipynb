{
 "cells": [
  {
   "cell_type": "code",
   "execution_count": null,
   "id": "b75deede",
   "metadata": {},
   "outputs": [],
   "source": [
    "from huggingface_hub import login\n",
    "import os\n",
    "login(os.getenv(\"HF_TOKEN\"))"
   ]
  },
  {
   "cell_type": "code",
   "execution_count": null,
   "id": "ab498b66",
   "metadata": {},
   "outputs": [],
   "source": [
    "# This notebook is for testing code before submitting it to the cluster - DO NOT SUBMIT THIS TO EXTERNAL GPU\n",
    "\n",
    "from datasets import load_dataset\n",
    "from transformers import BeitForImageClassification, BeitFeatureExtractor, TrainingArguments, Trainer\n",
    "import evaluate\n",
    "import numpy as np\n",
    "import torch\n",
    "\n",
    "model_name = \"microsoft/beit-base-patch16-224\"\n",
    "dataset = load_dataset(\"owner/dataset_name\")\n",
    "\n",
    "feature_extractor = BeitFeatureExtractor.from_pretrained(model_name)\n",
    "num_labels = len(dataset[\"train\"].features[\"label\"].names)\n",
    "\n",
    "model = BeitForImageClassification.from_pretrained(\n",
    "    model_name,\n",
    "    num_labels=num_labels,\n",
    "    id2label={i: label for i, label in enumerate(dataset[\"train\"].features[\"label\"].names)},\n",
    "    label2id={label: i for i, label in enumerate(dataset[\"train\"].features[\"label\"].names)},\n",
    "    ignore_mismatched_sizes=True\n",
    ")\n",
    "\n",
    "# Convert to BEiT tensor\n",
    "def transform(example):\n",
    "    inputs = feature_extractor(images=example[\"image\"], return_tensors=\"pt\")\n",
    "    return {\"pixel_values\": inputs[\"pixel_values\"][0], \"label\": example[\"label\"]}\n",
    "\n",
    "encoded_dataset = dataset.map(transform, batched=False)\n",
    "\n",
    "training_args = TrainingArguments(\n",
    "    output_dir=\"./beit_finetuned\",\n",
    "    per_device_train_batch_size=64,\n",
    "    per_device_eval_batch_size=64,\n",
    "    gradient_accumulation_steps=1,\n",
    "    num_train_epochs=5,\n",
    "    learning_rate=3e-5,\n",
    "    warmup_ratio=0.05,\n",
    "    weight_decay=0.05,\n",
    "    lr_scheduler_type=\"cosine\",\n",
    "    evaluation_strategy=\"epoch\",\n",
    "    save_strategy=\"epoch\",\n",
    "    save_total_limit=2,\n",
    "    logging_dir=\"./logs\",\n",
    "    logging_steps=50,\n",
    "    load_best_model_at_end=True,\n",
    "    metric_for_best_model=\"accuracy\",\n",
    "    bf16=True,\n",
    "    dataloader_num_workers=8,\n",
    "    report_to=\"tensorboard\",\n",
    "    seed=42,\n",
    ")\n",
    "\n",
    "accuracy_metric = evaluate.load(\"accuracy\")\n",
    "\n",
    "def compute_metrics(p):\n",
    "    preds = np.argmax(p.predictions, axis=1)\n",
    "    return accuracy_metric.compute(predictions=preds, references=p.label_ids)\n",
    "\n",
    "trainer = Trainer(\n",
    "    model=model,\n",
    "    args=training_args,\n",
    "    train_dataset=encoded_dataset[\"train\"],\n",
    "    eval_dataset=encoded_dataset[\"validation\"],\n",
    "    tokenizer=feature_extractor,\n",
    "    compute_metrics=compute_metrics,\n",
    ")\n",
    "\n",
    "print(torch.cuda.is_available())\n",
    "print(torch.cuda.get_device_name(0))\n",
    "\n",
    "trainer.train()"
   ]
  },
  {
   "cell_type": "code",
   "execution_count": 3,
   "id": "08f42eb8",
   "metadata": {},
   "outputs": [
    {
     "data": {
      "text/html": [
       "\n",
       "    <div>\n",
       "      \n",
       "      <progress value='94' max='94' style='width:300px; height:20px; vertical-align: middle;'></progress>\n",
       "      [94/94 01:23]\n",
       "    </div>\n",
       "    "
      ],
      "text/plain": [
       "<IPython.core.display.HTML object>"
      ]
     },
     "metadata": {},
     "output_type": "display_data"
    },
    {
     "name": "stdout",
     "output_type": "stream",
     "text": [
      "Test accuracy: 0.9526666666666667\n"
     ]
    }
   ],
   "source": [
    "results = trainer.evaluate(encoded_dataset[\"test\"])\n",
    "print(\"Test accuracy:\", results[\"eval_accuracy\"])"
   ]
  },
  {
   "cell_type": "code",
   "execution_count": null,
   "id": "4eecf866",
   "metadata": {},
   "outputs": [
    {
     "name": "stderr",
     "output_type": "stream",
     "text": [
      "Device set to use cpu\n"
     ]
    },
    {
     "name": "stdout",
     "output_type": "stream",
     "text": [
      "[{'label': 'real', 'score': 0.9999731779098511}, {'label': 'fake', 'score': 2.6874515242525376e-05}]\n"
     ]
    }
   ],
   "source": [
    "# Pipeline tester\n",
    "\n",
    "from transformers import pipeline\n",
    "from PIL import Image\n",
    "import base64\n",
    "import io\n",
    "\n",
    "classifier = pipeline(\"image-classification\", model=\"owner/model_name\")\n",
    "\n",
    "data_url = \"base64url_fillwithyourown\"\n",
    "# Split the data URL at the comma and take base64 data\n",
    "encoded_data = data_url.split(',')[1]\n",
    "decoded_data = base64.b64decode(encoded_data)\n",
    "\n",
    "image = Image.open(io.BytesIO(decoded_data))\n",
    "\n",
    "results = classifier(image)\n",
    "print(results)"
   ]
  }
 ],
 "metadata": {
  "kernelspec": {
   "display_name": "base",
   "language": "python",
   "name": "python3"
  },
  "language_info": {
   "codemirror_mode": {
    "name": "ipython",
    "version": 3
   },
   "file_extension": ".py",
   "mimetype": "text/x-python",
   "name": "python",
   "nbconvert_exporter": "python",
   "pygments_lexer": "ipython3",
   "version": "3.12.2"
  }
 },
 "nbformat": 4,
 "nbformat_minor": 5
}
